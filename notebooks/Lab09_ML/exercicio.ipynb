{
  "cells": [
    {
      "cell_type": "markdown",
      "id": "ecad5a4a",
      "metadata": {
        "id": "ecad5a4a"
      },
      "source": [
        "# Exercício de Regressão: Predição de Ruído de Aeroflóquio\n",
        "\n",
        "## Objetivo\n",
        "Prever o nível de ruído (em decibéis) gerado por aeroflóquios com base em características aerodinâmicas, utilizando diferentes modelos de machine learning.\n",
        "\n",
        "## Base de Dados: `airfoil_self_noise`\n",
        "Dataset disponível no OpenML com medições experimentais de ruído em aeroflóquios da NASA.\n",
        "\n",
        "### Dicionário de Atributos (Traduzido)\n",
        "| Nome Original       | Descrição em Português                     | Unidade/Tipo   |\n",
        "|---------------------|-------------------------------------------|---------------|\n",
        "| Frequency           | Frequência do som                         | Hertz (Hz)    |\n",
        "| Angle_of_Attack     | Ângulo de ataque da asa                   | Graus (°)     |\n",
        "| Chord_Length        | Comprimento da corda aerodinâmica         | Metros (m)    |\n",
        "| Free_Velocity       | Velocidade do fluxo de ar livre           | Metros/segundo (m/s) |\n",
        "| Suction_Side        | Espessura da camada de sucção/displacamento | Metros (m)    |\n",
        "| Scaled_Sound        | Nível de pressão sonora escalonado (target)| Decibéis (dB) |"
      ]
    },
    {
      "cell_type": "code",
      "source": [
        "import seaborn as sns\n",
        "import matplotlib.pyplot as plt\n",
        "import pandas as pd\n",
        "import numpy as np\n",
        "\n",
        "from sklearn.datasets import fetch_openml\n",
        "from sklearn.model_selection import train_test_split\n",
        "from sklearn.metrics import mean_squared_error\n",
        "from sklearn.linear_model import LinearRegression\n",
        "from sklearn.tree import DecisionTreeRegressor\n",
        "from sklearn.ensemble import RandomForestRegressor\n",
        "from sklearn.svm import SVR\n",
        "from sklearn.preprocessing import StandardScaler\n",
        "from sklearn.pipeline import make_pipeline"
      ],
      "metadata": {
        "id": "3iKYIKo9UINq"
      },
      "id": "3iKYIKo9UINq",
      "execution_count": 2,
      "outputs": []
    },
    {
      "cell_type": "code",
      "execution_count": 3,
      "id": "bfc604c2",
      "metadata": {
        "id": "bfc604c2"
      },
      "outputs": [],
      "source": [
        "airfoil = fetch_openml(name='airfoil_self_noise', version=1, as_frame=True, parser='pandas')\n",
        "X = airfoil.data\n",
        "y = airfoil.target.astype(float)"
      ]
    },
    {
      "cell_type": "code",
      "source": [
        "X_train, X_test, y_train, y_test = train_test_split(X, y, test_size=0.2, random_state=42)"
      ],
      "metadata": {
        "id": "7sfg3zEeUNzp"
      },
      "id": "7sfg3zEeUNzp",
      "execution_count": 4,
      "outputs": []
    },
    {
      "cell_type": "code",
      "source": [
        "def avaliar_modelo(y_true, y_pred, nome=\"Modelo\"):\n",
        "    rmse = np.sqrt(mean_squared_error(y_true, y_pred))\n",
        "    print(f\"{nome} - RMSE: {rmse:.2f}\")"
      ],
      "metadata": {
        "id": "iWdnqEUoVx_g"
      },
      "id": "iWdnqEUoVx_g",
      "execution_count": 5,
      "outputs": []
    },
    {
      "cell_type": "markdown",
      "source": [
        "1 - Regressão Linear"
      ],
      "metadata": {
        "id": "ATx9ADPIY1W-"
      },
      "id": "ATx9ADPIY1W-"
    },
    {
      "cell_type": "code",
      "source": [
        "modelo_lr = LinearRegression()\n",
        "modelo_lr.fit(X_train, y_train)\n",
        "\n",
        "pred_lr = modelo_lr.predict(X_test)\n",
        "avaliar_modelo(y_test, pred_lr, \"Regressão Linear\")"
      ],
      "metadata": {
        "colab": {
          "base_uri": "https://localhost:8080/"
        },
        "id": "X3zizPNNV0cA",
        "outputId": "e7a172fc-6c06-49d7-cc00-35b0bcabee9f"
      },
      "id": "X3zizPNNV0cA",
      "execution_count": 6,
      "outputs": [
        {
          "output_type": "stream",
          "name": "stdout",
          "text": [
            "Regressão Linear - RMSE: 4.70\n"
          ]
        }
      ]
    },
    {
      "cell_type": "markdown",
      "source": [
        "2 - Arvore de Regreção"
      ],
      "metadata": {
        "id": "UP9DxhtAaRBO"
      },
      "id": "UP9DxhtAaRBO"
    },
    {
      "cell_type": "code",
      "source": [
        "modelo_tree = DecisionTreeRegressor(random_state=42)\n",
        "modelo_tree.fit(X_train, y_train)\n",
        "\n",
        "pred_tree = modelo_tree.predict(X_test)\n",
        "avaliar_modelo(y_test, pred_tree, \"Árvore de Regressão\")"
      ],
      "metadata": {
        "colab": {
          "base_uri": "https://localhost:8080/"
        },
        "id": "3Z_cj0XOYx2G",
        "outputId": "2ba0c0a0-8ffb-4717-e9b7-f0c1b8f35df1"
      },
      "id": "3Z_cj0XOYx2G",
      "execution_count": 7,
      "outputs": [
        {
          "output_type": "stream",
          "name": "stdout",
          "text": [
            "Árvore de Regressão - RMSE: 2.42\n"
          ]
        }
      ]
    }
  ],
  "metadata": {
    "kernelspec": {
      "display_name": "aulas_pos",
      "language": "python",
      "name": "python3"
    },
    "language_info": {
      "codemirror_mode": {
        "name": "ipython",
        "version": 3
      },
      "file_extension": ".py",
      "mimetype": "text/x-python",
      "name": "python",
      "nbconvert_exporter": "python",
      "pygments_lexer": "ipython3",
      "version": "3.11.8"
    },
    "colab": {
      "provenance": []
    }
  },
  "nbformat": 4,
  "nbformat_minor": 5
}