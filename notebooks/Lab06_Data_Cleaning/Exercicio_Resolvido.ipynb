{
  "cells": [
    {
      "cell_type": "markdown",
      "metadata": {
        "id": "view-in-github"
      },
      "source": [
        "<a href=\"https://colab.research.google.com/github/andre-almd/Analisando-os-Dados-do-Airbnb/blob/main/Analisando_os_Dados_do_Airbnb.ipynb\" target=\"_parent\"><img src=\"https://colab.research.google.com/assets/colab-badge.svg\" alt=\"Open In Colab\"/></a>"
      ]
    },
    {
      "cell_type": "markdown",
      "metadata": {
        "id": "kLI0gJtzDGuQ"
      },
      "source": [
        "# Análise dos Dados do Booking - *Portugal*\n",
        "\n",
        "- Baixe o arquivo no link: [Clique aqui para baixar o arquivo](https://drive.google.com/file/d/1ApHNm3gI7O7j7Kby7EU9xZo7W1E8xB6t/view?usp=drive_link)\n",
        "\n",
        "\n",
        "\n",
        "# A [Booking.com](https://www.booking.com/) é uma das **maiores plataformas de reservas de hospedagem do mundo**. E o mais impressionante? Ela **não é dona de nenhum hotel**!\n",
        "\n",
        "Conectando viajantes a uma vasta rede de hotéis, pousadas, apartamentos e outras opções de hospedagem, a Booking.com revolucionou a forma como as pessoas planejam suas viagens, oferecendo **milhões de propriedades em todo o mundo**.\n",
        "\n",
        "Fundada em 1996, a empresa já ajudou **milhões de viajantes** a encontrar a hospedagem perfeita, desbancando métodos tradicionais de reserva e se tornando referência no setor de turismo.\n",
        "\n",
        "A Booking.com também disponibiliza dados e ferramentas para desenvolvedores através da [Booking.com API](https://developers.booking.com/), permitindo a integração de suas soluções de hospedagem em outros aplicativos e plataformas.\n",
        "\n",
        "<center><img alt=\"Explorando Booking.com\" width=\"15%\" src=\"data:image/png;base64,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\"></center>\n",
        "\n",
        "**Neste *notebook*, vamos explorar dados de hospedagens em Lisboa e descobrir insights valiosos sobre tendências de viagem, preços e disponibilidade.**"
      ]
    },
    {
      "cell_type": "markdown",
      "metadata": {},
      "source": [
        "**Dicionário das variáveis**\n",
        "\n",
        "* **id** : identificação única para o anúncio\n",
        "* **name** : nome do anúncio\n",
        "* **host_id** : identificador único para o proprietário do imóvel\n",
        "* **host_name** : nome do proprietário\n",
        "* **neighbourhood_group** :município ao qual o imóvel pertence, geolocalizado pelas coordenadas de latitude e longitude\n",
        "* **neighbourhood** : bairro da propriedade\n",
        "* **latitude** : coordenada geográfica de latitude da propriedade\n",
        "* **longitude** : coordenada geográfica de longitude da propriedade\n",
        "* **room_type** : tipo de quarto oferecido para locação\n",
        "* **price** : preço da diária do aluguel\n",
        "* **minimum_nights** : quantidade mínima de noites para alugar o imóvel\n",
        "* **number_of_reviews** : quantidade de avaliações que o imóvel tem\n",
        "* **last_review** : data da última avaliação\n",
        "* **reviews_per_month** : quantidade de avaliações por mês\n",
        "* **calculated_host_listings_count** : quantidade de imóveis do mesmo proprietário na mesma cidade/região\n",
        "* **availability_365** : número de dias disponíveis para locação nos próximos 365 dias\n",
        "* **number_of_reviews_ltm** : quantidade de avaliações nos últimos 12 meses\n",
        "* **license** : número de registro do imóvel"
      ]
    },
    {
      "cell_type": "code",
      "execution_count": null,
      "metadata": {
        "id": "Vhp2wMPgJ6zX"
      },
      "outputs": [],
      "source": [
        "# importar os pacotes necessarios\n",
        "import pandas as pd\n",
        "import numpy as np\n",
        "import matplotlib.pyplot as plt\n",
        "import seaborn as sns"
      ]
    },
    {
      "cell_type": "code",
      "execution_count": null,
      "metadata": {
        "id": "LjgoCqzBcq7D"
      },
      "outputs": [],
      "source": [
        "sns.set_theme(style=\"whitegrid\", palette='rocket')\n",
        "#sns.color_palette(\"flare\", as_cmap=True)"
      ]
    },
    {
      "cell_type": "code",
      "execution_count": null,
      "metadata": {
        "id": "tUmoAT8DLQ5T"
      },
      "outputs": [],
      "source": [
        "# importar o arquivo listings.csv para um DataFrame\n",
        "df = pd.read_csv('booking_portugal.csv')"
      ]
    },
    {
      "cell_type": "markdown",
      "metadata": {
        "id": "qb5By2nIMS6m"
      },
      "source": [
        "## Análise dos Dados\n"
      ]
    },
    {
      "cell_type": "code",
      "execution_count": null,
      "metadata": {
        "colab": {
          "base_uri": "https://localhost:8080/",
          "height": 538
        },
        "id": "2iS_dae7YQtO",
        "outputId": "bbeb6411-bedf-4642-b10e-0987ce60d270"
      },
      "outputs": [],
      "source": [
        "# mostrar as 5 primeiras entradas\n",
        "df.head()"
      ]
    },
    {
      "cell_type": "code",
      "execution_count": null,
      "metadata": {
        "colab": {
          "base_uri": "https://localhost:8080/"
        },
        "id": "IvRFHibh_i8D",
        "outputId": "f6fa93c6-fed5-424c-b45a-af5a818cdb14"
      },
      "outputs": [],
      "source": [
        "df.shape"
      ]
    },
    {
      "cell_type": "code",
      "execution_count": null,
      "metadata": {
        "colab": {
          "base_uri": "https://localhost:8080/",
          "height": 300
        },
        "id": "ESReUc6KLbUy",
        "outputId": "abcfb826-5914-4287-dfe6-a69b142fd457"
      },
      "outputs": [],
      "source": [
        "# Descrição estatística dos dados\n",
        "df.describe()"
      ]
    },
    {
      "cell_type": "markdown",
      "metadata": {
        "id": "2J80IjkQ1Q5c"
      },
      "source": [
        "Com a análise estatística é verificado que alguns dados estão estranhos, como é o caso dos dados de preço e noites mínima para locação.\n",
        "- Observe que a média do preço é €133. Aqui, 75% dos dados estão abaixo de €148 e o valor máximo é €9999.\n",
        "- O mesmo ocorre com noites mínimas para locação. Média de 4 noites com valor máximo de 1000, sendo que 75% dos dados está abaixo 3 noites. **Algo não está certo aí.**\n",
        "\n",
        "Esta discrepância pode ser causada por **outliers**."
      ]
    },
    {
      "cell_type": "markdown",
      "metadata": {
        "id": "6-B_qtEaYEd-"
      },
      "source": [
        "### **Q1. Quantos atributos (variáveis) e quantas entradas o nosso conjunto de dados possui? Quais os tipos das variáveis?**"
      ]
    },
    {
      "cell_type": "code",
      "execution_count": null,
      "metadata": {
        "colab": {
          "base_uri": "https://localhost:8080/"
        },
        "id": "TFRK0tniLV-G",
        "outputId": "1654dab6-a3b2-440d-ac0a-17ccad04b7d5"
      },
      "outputs": [],
      "source": [
        "# identificar o volume de dados do DataFrame\n",
        "print(f'O dataset possui {df.shape[0]} entradas (registros) e {df.shape[1]} atributos (variáveis).')\n",
        "# verificar os tipos de dados dos atributos\n",
        "print(f'\\nOs tipos dos atributos são do tipo:\\n{df.dtypes}')"
      ]
    },
    {
      "cell_type": "markdown",
      "metadata": {
        "id": "W1vASI5zm4cD"
      },
      "source": [
        "De início, pode ser observado que o dataset é bem extenso e com muitas informações."
      ]
    },
    {
      "cell_type": "markdown",
      "metadata": {
        "id": "yz1urSUGW9iE"
      },
      "source": [
        "### **Q2. Qual a porcentagem de valores ausentes no *dataset*?**"
      ]
    },
    {
      "cell_type": "code",
      "execution_count": null,
      "metadata": {
        "colab": {
          "base_uri": "https://localhost:8080/",
          "height": 683
        },
        "id": "plk2FjbCXOqP",
        "outputId": "9aa776fe-d11b-4873-fab5-d169fff6a1c5"
      },
      "outputs": [],
      "source": [
        "# ordenar em ordem decrescente as variáveis por seus valores ausentes\n",
        "\n",
        "print(f'As variáveis com mais dados faltantes, em porcentagem (%), são:\\n')\n",
        "((df.isnull().sum() / df.shape[0])*100).sort_values(ascending=False)"
      ]
    },
    {
      "cell_type": "markdown",
      "metadata": {
        "id": "petYxRA5bo1O"
      },
      "source": [
        "Os atributos com dados faltantes são poucos e parecem não serem os mais importantes do dataset. A quantidade de dados faltantes indica não ser tão significante para futuras análises."
      ]
    },
    {
      "cell_type": "markdown",
      "metadata": {
        "id": "iHXvvHIxaoNc"
      },
      "source": [
        "### **Q3. Qual o tipo de distribuição das variáveis?**"
      ]
    },
    {
      "cell_type": "code",
      "execution_count": null,
      "metadata": {
        "colab": {
          "base_uri": "https://localhost:8080/",
          "height": 1000
        },
        "id": "q2wWSfeRbmBo",
        "outputId": "5813684d-b34a-4179-a39f-519f3351c91e"
      },
      "outputs": [],
      "source": [
        "# plotar o histograma das variáveis numéricas\n",
        "df.hist(bins=15, figsize=(20,16));"
      ]
    },
    {
      "cell_type": "markdown",
      "metadata": {
        "id": "Gkw5g8SiqIs3"
      },
      "source": [
        "Pelos gráficos de histogramas pode ser visto que:\n",
        "\n",
        "- Há uma distribuição nos atributos de preço e noites mínimas para aluguel que indicam ter valores muito discrepantes nos dados, reforçando a análise estatística inicial;\n",
        "- A quantidade de reviews também parece variar bastante sem um perfil uniforme para os dados. Sem maiores detalhes não há como ter uma informação mais detalhada aqui;\n",
        "- A maioria dos imóveis possuem boa disponibilidade de locação para os próximos 365 dias."
      ]
    },
    {
      "cell_type": "markdown",
      "metadata": {
        "id": "7x4aw1j5wNmn"
      },
      "source": [
        "### **Q4. Qual a média dos preços de aluguel?**"
      ]
    },
    {
      "cell_type": "code",
      "execution_count": null,
      "metadata": {
        "colab": {
          "base_uri": "https://localhost:8080/"
        },
        "id": "ff-8gUahLk-C",
        "outputId": "3f83e238-7a87-4c4b-b28b-ae106e02cba5"
      },
      "outputs": [],
      "source": [
        "# ver a média da coluna `price``\n",
        "print(f'A média dos preços de aluguel na região metropolitana de Lisboa é €{df.price.mean():.2f}')"
      ]
    },
    {
      "cell_type": "markdown",
      "metadata": {
        "id": "ys8gnMPksgtC"
      },
      "source": [
        "A média acima considera todos os tipos de quartos.\n",
        "\n",
        "Se agruparmos por tipo de quarto podemos ver que os quartos privados possuem a menor média de preços e o maior preço de aluguel é para os quartos de hotel."
      ]
    },
    {
      "cell_type": "code",
      "execution_count": null,
      "metadata": {
        "colab": {
          "base_uri": "https://localhost:8080/"
        },
        "id": "FXqfWbvWsTTA",
        "outputId": "d31a1c0b-19b0-4eb1-9b63-c2014ef8bfac"
      },
      "outputs": [],
      "source": [
        "preco_medio = df.groupby('room_type').price.mean()\n",
        "print(f'Média de preços de aluguel em Lisboa por tipo de quarto. Valores em Euros (€)\\n{preco_medio}')"
      ]
    },
    {
      "cell_type": "code",
      "execution_count": null,
      "metadata": {
        "colab": {
          "base_uri": "https://localhost:8080/",
          "height": 600
        },
        "id": "NTORYQ2vShy-",
        "outputId": "9f75dd62-3098-4cae-c85a-26cba672b46d"
      },
      "outputs": [],
      "source": [
        "fig, ax = plt.subplots(figsize=(12,6))\n",
        "\n",
        "ax = sns.barplot(x=preco_medio.index, y=preco_medio.values)\n",
        "ax.set_title('Preço médio por tipo de locação na região de Lisboa, em Euro (€)', loc='left', fontsize=18)\n",
        "ax.set_xlabel('Tipo de locação')\n",
        "ax.spines['right'].set_visible(False)\n",
        "ax.spines['top'].set_visible(False)\n",
        "ax.spines['left'].set_visible(False)\n",
        "ax.tick_params(labelleft = False)\n",
        "ax.grid(False)\n",
        "\n",
        "for i in range(preco_medio.values.shape[0]):\n",
        "  ax.text(i-.11, preco_medio.values[i]-10, f'€{round(preco_medio.values[i], 2)}', fontsize=12, color='white')\n",
        "\n",
        "plt.tight_layout()"
      ]
    },
    {
      "cell_type": "markdown",
      "metadata": {
        "id": "K3l9S6aT7Rgv"
      },
      "source": [
        "Como esperado, os quartos de hoteis são mais caros, seguidos pelos apartamentos ou casas completos.\n",
        "\n",
        "No entanto, é interessante observar que os quartos compartilhados são mais caros, em média, do que os quartos privados.\n",
        "\n",
        "**Será que é mais barato ir em Lisboa e ficar em quarto privado do que num quarto compartilhado em um hostel???**"
      ]
    },
    {
      "cell_type": "markdown",
      "metadata": {
        "id": "IXn2oIo5qx-w"
      },
      "source": [
        "### **Q5. Qual a correlação existente entre as variáveis**"
      ]
    },
    {
      "cell_type": "code",
      "execution_count": null,
      "metadata": {
        "colab": {
          "base_uri": "https://localhost:8080/",
          "height": 335
        },
        "id": "_kedD8KtJibn",
        "outputId": "f07d147a-8cc3-4b4e-f82d-2f305706d707"
      },
      "outputs": [],
      "source": [
        "df.price.describe()"
      ]
    },
    {
      "cell_type": "code",
      "execution_count": null,
      "metadata": {
        "colab": {
          "base_uri": "https://localhost:8080/",
          "height": 394
        },
        "id": "x2ayzBajqxyd",
        "outputId": "3a794d3b-1bf2-4ca3-ffbd-7757f0df9ed3"
      },
      "outputs": [],
      "source": [
        "# Select only numerical features for correlation analysis\n",
        "numerical_df = df.select_dtypes(include=['number'])\n",
        "\n",
        "# Calculate the correlation matrix\n",
        "corr = numerical_df.corr()\n",
        "\n",
        "# Display the correlation matrix\n",
        "corr\n"
      ]
    },
    {
      "cell_type": "code",
      "execution_count": null,
      "metadata": {
        "colab": {
          "base_uri": "https://localhost:8080/",
          "height": 924
        },
        "id": "91UujDr6ueqE",
        "outputId": "2075a89a-98dc-4acc-bcca-c72e1b1e5efb"
      },
      "outputs": [],
      "source": [
        "# plotar um heatmap a partir das correlações\n",
        "plt.figure(figsize=(10,8))\n",
        "sns.heatmap(corr, annot=True, cmap='rocket')\n",
        "plt.title('Correlação das variáveis', loc='left', fontsize=16)\n",
        "plt.show()"
      ]
    },
    {
      "cell_type": "markdown",
      "metadata": {
        "id": "3APxFMBvwUST"
      },
      "source": [
        "Observando a correlação do preço do aluguel com os outros atributos **não é observado correlações fortes**. No entanto, pode ser visto que a maior correlação é com a **longitude**, o que indica que a coordenada geográfica influencia mais no preço do aluguel do que as outras variáveis."
      ]
    },
    {
      "cell_type": "code",
      "execution_count": null,
      "metadata": {
        "colab": {
          "base_uri": "https://localhost:8080/"
        },
        "id": "i9WqVWEgv_uL",
        "outputId": "0605c86d-570f-4c07-f1aa-3b2513b3e544"
      },
      "outputs": [],
      "source": [
        "print(f'Valor absoluto da correlação dos atributos com o preço de aluguel:')\n",
        "corr.price.abs().sort_values(ascending=False)[1:]"
      ]
    },
    {
      "cell_type": "markdown",
      "metadata": {
        "id": "7b6RMWpuHKN-"
      },
      "source": [
        "### **Q6. Qual o tipo de imóvel mais disponível no Airbnb?**"
      ]
    },
    {
      "cell_type": "code",
      "execution_count": null,
      "metadata": {
        "colab": {
          "base_uri": "https://localhost:8080/",
          "height": 258
        },
        "id": "ueLPNWvPHgfB",
        "outputId": "a33caa0e-b917-4376-d0c0-cfbcef779cc6"
      },
      "outputs": [],
      "source": [
        "# mostrar a quantidade de cada tipo de imóvel disponível\n",
        "print(f'Imóveis disponíveis por categoria:')\n",
        "df.room_type.value_counts()"
      ]
    },
    {
      "cell_type": "code",
      "execution_count": null,
      "metadata": {
        "colab": {
          "base_uri": "https://localhost:8080/",
          "height": 258
        },
        "id": "EvwoO-XAHhIm",
        "outputId": "e5ab27b1-8fc1-4083-efb6-4d2e9f07e4d8"
      },
      "outputs": [],
      "source": [
        "# mostrar a porcentagem de cada tipo de imóvel disponível\n",
        "print(f'Em porcentagem (%), esses dados representam:')\n",
        "df.room_type.value_counts()/df.shape[0]*100"
      ]
    },
    {
      "cell_type": "code",
      "execution_count": null,
      "metadata": {
        "colab": {
          "base_uri": "https://localhost:8080/",
          "height": 600
        },
        "id": "x1c6cf7fkV6c",
        "outputId": "17c62d7c-f03d-40a2-e115-2103e8c3e87d"
      },
      "outputs": [],
      "source": [
        "qt_room = df.room_type.value_counts()\n",
        "\n",
        "fig, ax = plt.subplots(figsize=(12,6))\n",
        "ax = sns.barplot(x=qt_room.index, y=qt_room.values)\n",
        "\n",
        "ax.set_title('Quantidade de imóveis disponíveis por categoria na região de Lisboa', loc='left', fontsize=18)\n",
        "ax.set_xlabel('Categoria')\n",
        "#ax.set_ylabel('Quantidade')\n",
        "ax.spines['right'].set_visible(False)\n",
        "ax.spines['top'].set_visible(False)\n",
        "ax.spines['left'].set_visible(False)\n",
        "ax.tick_params(labelleft = False)\n",
        "ax.grid(False)\n",
        "\n",
        "for i in range(qt_room.values.shape[0]-2):\n",
        "  ax.text(i-.1, qt_room.values[i]-600, f'{round(qt_room.values[i], 2)}', fontsize=12, color='white')\n",
        "for i in range(2, qt_room.values.shape[0]):\n",
        "  ax.text(i-.1, qt_room.values[i], f'{round(qt_room.values[i], 2)}', fontsize=12)\n",
        "\n",
        "plt.tight_layout()"
      ]
    },
    {
      "cell_type": "markdown",
      "metadata": {
        "id": "Ox4pR0sC8sgF"
      },
      "source": [
        "**Mais de 76%** dos imóveis disponíveis são casas ou apartamentos completo.\n",
        "\n",
        "A quantidade de quartos em hoteis ou quartos compartilhados não representa nem 2.5% de todas as opções disponíveis em Lisboa."
      ]
    },
    {
      "cell_type": "markdown",
      "metadata": {
        "id": "MFa5NbnLJMcd"
      },
      "source": [
        "### **Q7. Qual a localidade mais cara do dataset?**\n",
        "\n"
      ]
    },
    {
      "cell_type": "code",
      "execution_count": null,
      "metadata": {
        "colab": {
          "base_uri": "https://localhost:8080/"
        },
        "id": "zIRaQt1n6Xs5",
        "outputId": "24e16624-a135-4619-de17-8c6fc6ebac0e"
      },
      "outputs": [],
      "source": [
        "print(f'Existem {df.neighbourhood_group.unique().shape[0]} municíios registrados na região metropolitana de Lisboa no dataset.')"
      ]
    },
    {
      "cell_type": "markdown",
      "metadata": {
        "id": "9ewzMLAV7EGN"
      },
      "source": [
        "Na média, a cidade mais cara na região de Lisboa é **Sintra**. E a mais barata é **Amadora**."
      ]
    },
    {
      "cell_type": "code",
      "execution_count": null,
      "metadata": {
        "colab": {
          "base_uri": "https://localhost:8080/",
          "height": 617
        },
        "id": "MD_xa143JZpi",
        "outputId": "4c01f1fe-6a46-415b-c70f-e5ea3a9c1416"
      },
      "outputs": [],
      "source": [
        "# ver preços por municípios, na média\n",
        "df.groupby('neighbourhood_group').price.mean().sort_values(ascending=False)"
      ]
    },
    {
      "cell_type": "code",
      "execution_count": null,
      "metadata": {
        "colab": {
          "base_uri": "https://localhost:8080/"
        },
        "id": "Mvg2YUdv9VRH",
        "outputId": "69ba4725-6473-402e-c51f-73e64f1c2a5a"
      },
      "outputs": [],
      "source": [
        "# Quantidade de dados das cidades mais caras\n",
        "print(df.query('neighbourhood_group == \"Sintra\"').shape[0])\n",
        "print(df.query('neighbourhood_group == \"Cascais\"').shape[0])"
      ]
    },
    {
      "cell_type": "code",
      "execution_count": null,
      "metadata": {
        "colab": {
          "base_uri": "https://localhost:8080/"
        },
        "id": "sQ79TUfuKOEu",
        "outputId": "f67c741a-2c31-4a4b-9844-72818478cab7"
      },
      "outputs": [],
      "source": [
        "# Quantidade de dados das cidades mais baratas\n",
        "print(df.query('neighbourhood_group == \"Amadora\"').shape[0])\n",
        "print(df.query('neighbourhood_group == \"Odivelas\"').shape[0])"
      ]
    },
    {
      "cell_type": "code",
      "execution_count": null,
      "metadata": {
        "colab": {
          "base_uri": "https://localhost:8080/",
          "height": 922
        },
        "id": "WdXcRreloEM6",
        "outputId": "ab9b5e09-1916-4eeb-e139-bb5a957c9588"
      },
      "outputs": [],
      "source": [
        "preco_por_regiao = df.groupby('neighbourhood_group').price.mean().sort_values(ascending=False)\n",
        "\n",
        "fi, ax = plt.subplots(figsize=(18,10))\n",
        "ax = sns.barplot(y=preco_por_regiao.index, x=preco_por_regiao.values, orient='h', palette='rocket')\n",
        "\n",
        "ax.set_title('Preço médio dos imóveis na região de Lisboa, em Euro (€)', loc='left', fontsize=18)\n",
        "ax.set_ylabel('')\n",
        "ax.spines['right'].set_visible(True)\n",
        "ax.spines['top'].set_visible(False)\n",
        "ax.spines['left'].set_visible(True)\n",
        "ax.spines['right'].set_visible(False)\n",
        "ax.spines['bottom'].set_visible(False)\n",
        "ax.tick_params(labelbottom = False)\n",
        "ax.grid(False)\n",
        "\n",
        "#plt.xticks(rotation=45)\n",
        "for i in range(preco_por_regiao.values.shape[0]):\n",
        "  ax.text(preco_por_regiao.values[i]-10, i, f'€{round(preco_por_regiao.values[i], 2)}', fontsize=12, color='white')\n",
        "\n",
        "plt.show()"
      ]
    },
    {
      "cell_type": "markdown",
      "metadata": {
        "id": "r_yBRv4V-iO9"
      },
      "source": [
        "**Sintra** é a cidade mais cara na região metropolitana de Lisboa para alugar um cômodo pelo Airbnb.\n",
        "\n",
        "A cidade de **Lisboa**, que é **capital de Portugal** e da região metropolitana, é a maior do país e fica na **8ª posição** das mas caras do Airbnb.\n",
        "\n",
        "**Será???**"
      ]
    },
    {
      "cell_type": "code",
      "execution_count": null,
      "metadata": {
        "colab": {
          "base_uri": "https://localhost:8080/",
          "height": 887
        },
        "id": "UxVJqJ_3W59I",
        "outputId": "ed4ae0b0-6184-41bd-f387-8665bd3c158a"
      },
      "outputs": [],
      "source": [
        "# plotar os imóveis pela latitude-longitude\n",
        "plt.figure(figsize=(18,10))\n",
        "sns.scatterplot(data=df, x='longitude', y='latitude', hue='neighbourhood_group', legend=True)\n",
        "plt.title('Imóveis agrupados por cidade', loc='left', fontsize=18)\n",
        "plt.legend(loc='best')\n",
        "plt.show()"
      ]
    },
    {
      "cell_type": "markdown",
      "metadata": {
        "id": "cp_44kvgsA3j"
      },
      "source": [
        "O aluguel mais caro nos dados é de €9999. Vamos ver as informações desse imóvel para análise mais detalhada:\n",
        "\n",
        "- Diária de €9999 em um hostel com quarto compartilhado na terceira cidade mais cara da região de Lisboa. Não há comentários do imóvel. O Host possui 10 imóveis cadastrados."
      ]
    },
    {
      "cell_type": "code",
      "execution_count": null,
      "metadata": {
        "colab": {
          "base_uri": "https://localhost:8080/",
          "height": 152
        },
        "id": "XwQ9WMAer_0H",
        "outputId": "dcea9fee-1ea4-483a-92de-e5af8975a24c"
      },
      "outputs": [],
      "source": [
        "# Aluguel mais caro de €9999\n",
        "df[df.price == 9999]"
      ]
    },
    {
      "cell_type": "markdown",
      "metadata": {
        "id": "HfUnNk4RvT6k"
      },
      "source": [
        "Olhando as informações do host pode ser percebido que os dados são do mesmo hostel e a média de valores é bem baixa. Logo, o valor da diária deve ter sido cadastrado errado. Há também um outro quarto com valor discrepante que também deve ter sido cadastrado errado."
      ]
    },
    {
      "cell_type": "code",
      "execution_count": null,
      "metadata": {
        "colab": {
          "base_uri": "https://localhost:8080/",
          "height": 1000
        },
        "id": "ES6XMVGduwRT",
        "outputId": "b9349680-76ea-4c7a-8370-aa7decea6fc1"
      },
      "outputs": [],
      "source": [
        "df[df.host_id == 415595835]"
      ]
    },
    {
      "cell_type": "code",
      "execution_count": null,
      "metadata": {
        "colab": {
          "base_uri": "https://localhost:8080/",
          "height": 801
        },
        "id": "KOD7u1QZHSPu",
        "outputId": "8f4d8064-1fb1-413b-de38-be42a09f739d"
      },
      "outputs": [],
      "source": [
        "fig, ax = plt.subplots(figsize=(16,8))\n",
        "ax = sns.boxplot(data=df, x='price')\n",
        "ax.set_title('Boxplot do preço da diária, em Euro (€)', loc='left', fontsize=18)\n",
        "ax.set_xlabel('')\n",
        "\n",
        "ax.spines['right'].set_visible(False)\n",
        "ax.spines['top'].set_visible(False)\n",
        "ax.spines['left'].set_visible(False)\n",
        "ax.grid(True)\n",
        "\n",
        "plt.tight_layout()"
      ]
    },
    {
      "cell_type": "markdown",
      "metadata": {
        "id": "JYesdb6JHZK8"
      },
      "source": [
        "Com o boxplot acima é visível que há muitos dados discrepantes para o preço médio da diária."
      ]
    },
    {
      "cell_type": "markdown",
      "metadata": {
        "id": "vTneAMRUYvr1"
      },
      "source": [
        "### **Q8. Qual é a média do mínimo de noites para aluguel (minimum_nights)?**"
      ]
    },
    {
      "cell_type": "code",
      "execution_count": null,
      "metadata": {
        "colab": {
          "base_uri": "https://localhost:8080/"
        },
        "id": "_VzNhrEgY82N",
        "outputId": "f4c8a42a-e488-4ed5-b28a-027467806be8"
      },
      "outputs": [],
      "source": [
        "# ver a média da coluna `minimum_nights``\n",
        "print(f'A média de noites mínimas para locação é: {df.minimum_nights.mean():.2f}')"
      ]
    },
    {
      "cell_type": "markdown",
      "metadata": {
        "id": "0kTgEF04LqOj"
      },
      "source": [
        "Ou seja, em média, os imóveis possuem um requisito mínimo de **4 noites para locação** do imóvel."
      ]
    },
    {
      "cell_type": "code",
      "execution_count": null,
      "metadata": {
        "colab": {
          "base_uri": "https://localhost:8080/",
          "height": 581
        },
        "id": "HvJwdPYnLWc2",
        "outputId": "7b9dbce5-dd2f-4744-a049-526110fed461"
      },
      "outputs": [],
      "source": [
        "# Gráfico de boxplot para ver a distribuição\n",
        "fig, ax = plt.subplots(figsize=(16,8))\n",
        "ax = sns.boxplot(data=df, x='minimum_nights')\n",
        "ax.set_title('Boxplot da quantidade mínima de noites para reserva', loc='left', fontsize=18)\n",
        "ax.set_xlabel('')\n",
        "\n",
        "ax.spines['right'].set_visible(False)\n",
        "ax.spines['top'].set_visible(False)\n",
        "ax.spines['left'].set_visible(False)\n",
        "ax.grid(True)\n",
        "\n",
        "plt.tight_layout()"
      ]
    },
    {
      "cell_type": "markdown",
      "metadata": {
        "id": "igL-FKHcNFmo"
      },
      "source": [
        "É observado uma quantidade muito estranha de noites mínimas em alguns dados. Como um mês tem 30 dias, é estranho pensar que a quantidade mínima para locação de imóveis seja 100, 200 , 300 ou 1000 dias. **Não tem sentido.**\n",
        "\n",
        "Desconsiderando dos dados os imóveis com noite míminas de locação acima de 30 dias, é possível ver o boxplot abaixo."
      ]
    },
    {
      "cell_type": "code",
      "execution_count": null,
      "metadata": {
        "colab": {
          "base_uri": "https://localhost:8080/",
          "height": 581
        },
        "id": "Sqozjz4GM-1W",
        "outputId": "aea12cbe-223b-4e47-bcf9-b90287c9b206"
      },
      "outputs": [],
      "source": [
        "fig, ax = plt.subplots(figsize=(16,8))\n",
        "ax = sns.boxplot(data=df[df.minimum_nights <= 30], x='minimum_nights')\n",
        "ax.set_title('Boxplot da quantidade mínima de noites para reserva, filtrado para 30 dias', loc='left', fontsize=18)\n",
        "ax.set_xlabel('')\n",
        "\n",
        "ax.spines['right'].set_visible(False)\n",
        "ax.spines['top'].set_visible(False)\n",
        "ax.spines['left'].set_visible(False)\n",
        "ax.grid(True)\n",
        "\n",
        "plt.tight_layout()"
      ]
    },
    {
      "cell_type": "markdown",
      "metadata": {
        "id": "enVrp-AaBxiY"
      },
      "source": [
        "Ainda parece existir alguns outliers, mas fica difícil afirmar só pelo gráfico.\n",
        "\n",
        "Vamos analisar os outliers pela medida do IQR."
      ]
    },
    {
      "cell_type": "markdown",
      "metadata": {
        "id": "K-wSuSg7CVWe"
      },
      "source": [
        "## Análise dos outliers"
      ]
    },
    {
      "cell_type": "markdown",
      "metadata": {
        "id": "i0x4XT9uCc9-"
      },
      "source": [
        "### Dados de preço da diária"
      ]
    },
    {
      "cell_type": "code",
      "execution_count": null,
      "metadata": {
        "colab": {
          "base_uri": "https://localhost:8080/"
        },
        "id": "6Q6Njm5xCZ-6",
        "outputId": "97f42396-bd4f-45a2-8a0c-83b07f37bfa6"
      },
      "outputs": [],
      "source": [
        "Q1 = df.price.quantile(0.25)\n",
        "Q3 = df.price.quantile(0.75)\n",
        "\n",
        "IQR = Q3-Q1\n",
        "\n",
        "# Valores limites para corte\n",
        "print(Q1 - 1.5*IQR)\n",
        "print(Q3 + 1.5*IQR)"
      ]
    },
    {
      "cell_type": "code",
      "execution_count": null,
      "metadata": {
        "colab": {
          "base_uri": "https://localhost:8080/"
        },
        "id": "T7gRKi-dEsGe",
        "outputId": "c708f796-ff76-424e-c0c9-0f4cae2b17ed"
      },
      "outputs": [],
      "source": [
        "# Criando uma cópia do dataset para limpeza\n",
        "df_clean = df.copy()\n",
        "\n",
        "# Vou limitar o valor mínimo em 0, já que pelo cáculo foi encontrado um valor negativo.\n",
        "df_clean.drop(df_clean[df_clean.price <= 0].index, axis=0, inplace=True)\n",
        "# O valor máximo mantenho o cálculo de Q3 + 1.5*IQR\n",
        "df_clean.drop(df_clean[df_clean.price > (Q3 + 1.5*IQR)].index, axis=0, inplace=True)\n",
        "\n",
        "print(f'O dataset original possui {df.shape[0]} amostras')\n",
        "print(f'O dataset limpo agora possui {df_clean.shape[0]} amostras')"
      ]
    },
    {
      "cell_type": "markdown",
      "metadata": {
        "id": "hGzbeFqtF1X4"
      },
      "source": [
        "### Dados de quantidade mínima para locação"
      ]
    },
    {
      "cell_type": "code",
      "execution_count": null,
      "metadata": {
        "colab": {
          "base_uri": "https://localhost:8080/"
        },
        "id": "Nj5FryboF5t5",
        "outputId": "7cc7afc0-e293-41cc-f8b5-f3a9b222177f"
      },
      "outputs": [],
      "source": [
        "Q1 = df.minimum_nights.quantile(0.25)\n",
        "Q3 = df.minimum_nights.quantile(0.75)\n",
        "\n",
        "IQR = Q3-Q1\n",
        "\n",
        "# Valores limites para corte\n",
        "print(Q1 - 1.5*IQR)\n",
        "print(Q3 + 1.5*IQR)"
      ]
    },
    {
      "cell_type": "code",
      "execution_count": null,
      "metadata": {
        "colab": {
          "base_uri": "https://localhost:8080/"
        },
        "id": "uOW-Q-aJGH6I",
        "outputId": "35eaab5c-ce8a-4aa9-d9c5-7d77bff7d67b"
      },
      "outputs": [],
      "source": [
        "# Vou limitar o valor mínimo em 0, já que pelo cáculo foi encontrado um valor negativo.\n",
        "df_clean.drop(df_clean[df_clean.minimum_nights <= 0].index, axis=0, inplace=True)\n",
        "# O valor máximo mantenho o cálculo de Q3 + 1.5*IQR\n",
        "df_clean.drop(df_clean[df_clean.minimum_nights > (Q3 + 1.5*IQR)].index, axis=0, inplace=True)\n",
        "\n",
        "print(f'O dataset limpo agora possui {df_clean.shape[0]} amostras')"
      ]
    },
    {
      "cell_type": "markdown",
      "metadata": {
        "id": "SwZnmkxrGXTZ"
      },
      "source": [
        "## Como fica o dataset sem outliers???"
      ]
    },
    {
      "cell_type": "code",
      "execution_count": null,
      "metadata": {
        "colab": {
          "base_uri": "https://localhost:8080/",
          "height": 300
        },
        "id": "1b9Dt39MGcdX",
        "outputId": "78b548dd-6855-4fa6-e691-7dcd3fb1a892"
      },
      "outputs": [],
      "source": [
        "df_clean.describe()"
      ]
    },
    {
      "cell_type": "markdown",
      "metadata": {
        "id": "nojNVGsKS43l"
      },
      "source": [
        "Agora os dados estão dentro de uma padrão que parece esar ok.\n",
        "\n",
        "Vamos ver o histograma novamente."
      ]
    },
    {
      "cell_type": "code",
      "execution_count": null,
      "metadata": {
        "colab": {
          "base_uri": "https://localhost:8080/",
          "height": 936
        },
        "id": "jhiYde0yS_CP",
        "outputId": "0488ae5b-7322-4c8b-8c88-b914cde995f2"
      },
      "outputs": [],
      "source": [
        "# plotar o histograma das variáveis numéricas\n",
        "df_clean.hist(bins=15, figsize=(20,16));"
      ]
    },
    {
      "cell_type": "code",
      "execution_count": null,
      "metadata": {
        "colab": {
          "base_uri": "https://localhost:8080/",
          "height": 581
        },
        "id": "knHufgD_HGXM",
        "outputId": "896a62f1-5daa-4dff-ab5a-414150c84b32"
      },
      "outputs": [],
      "source": [
        "# Boxplot do preço médio da diãria com o dataset limpo\n",
        "fig, ax = plt.subplots(figsize=(16,8))\n",
        "ax = sns.boxplot(data=df_clean, x='price')\n",
        "ax.set_title('Boxplot do preço da diária, em Euro (€)', loc='left', fontsize=18)\n",
        "ax.set_xlabel('')\n",
        "\n",
        "ax.spines['right'].set_visible(False)\n",
        "ax.spines['top'].set_visible(False)\n",
        "ax.spines['left'].set_visible(False)\n",
        "ax.grid(True)\n",
        "\n",
        "plt.tight_layout()"
      ]
    },
    {
      "cell_type": "code",
      "execution_count": null,
      "metadata": {
        "colab": {
          "base_uri": "https://localhost:8080/",
          "height": 581
        },
        "id": "dkag-NvCGhoV",
        "outputId": "58ede621-e976-4ee6-a82b-3f242adea360"
      },
      "outputs": [],
      "source": [
        "#Boxplot da quantidade de noites mínima com o dataset limpo\n",
        "fig, ax = plt.subplots(figsize=(16,8))\n",
        "ax = sns.boxplot(data=df_clean, x='minimum_nights')\n",
        "ax.set_title('Boxplot da quantidade mínima de noites para reserva', loc='left', fontsize=18)\n",
        "ax.set_xlabel('')\n",
        "\n",
        "ax.spines['right'].set_visible(False)\n",
        "ax.spines['top'].set_visible(False)\n",
        "ax.spines['left'].set_visible(False)\n",
        "ax.grid(True)\n",
        "\n",
        "plt.tight_layout()"
      ]
    },
    {
      "cell_type": "markdown",
      "metadata": {
        "id": "BB2dPbMKHoq1"
      },
      "source": [
        "Com a análise acima pode ser visto uma **melhora significativa nas variações dos dados**, agora mais coerentes sem indícios de dados fora do padrão.\n",
        "\n",
        "Os valores de outliers no boxplot de df_clean não podem ser considerados como fora de contexto, pois é um novo boxplot com os dados já filtrados anteriormente.\n",
        "\n",
        "Agora, vamos refazer as análises gráficas e verificar se o resultado permanece o mesmo."
      ]
    },
    {
      "cell_type": "code",
      "execution_count": null,
      "metadata": {
        "colab": {
          "base_uri": "https://localhost:8080/",
          "height": 415
        },
        "id": "cxXgHIp0Ma3x",
        "outputId": "02a1a0c6-6d90-4d92-8860-d9f5f08143c0"
      },
      "outputs": [],
      "source": [
        "corr = df_clean.select_dtypes(include=['number']).corr()\n",
        "\n",
        "print(f'Valor absoluto da correlação dos atributos com o preço de aluguel:')\n",
        "corr.price.abs().sort_values(ascending=False)[1:]"
      ]
    },
    {
      "cell_type": "markdown",
      "metadata": {
        "id": "8EFPkW-sMizG"
      },
      "source": [
        "As correações continuam fracas, mas agora a maior correlação com o preço da locação é com a quantidade de locações de um mesmo host, seguido pela disponibilidade futura e o número de comentários.\n",
        "\n",
        "**As correações ainda são fracas, mas há mudança no padrão após a retirada de outiers é interessante.**"
      ]
    },
    {
      "cell_type": "code",
      "execution_count": null,
      "metadata": {
        "colab": {
          "base_uri": "https://localhost:8080/",
          "height": 437
        },
        "id": "dT-ohW3NLtPL",
        "outputId": "27cd21b9-a62b-40e0-bcc9-f0b90b25d17d"
      },
      "outputs": [],
      "source": [
        "# Análise para quantidade de locações disponíveis\n",
        "qt_room = df_clean.room_type.value_counts()\n",
        "\n",
        "fig, ax = plt.subplots(figsize=(12,6))\n",
        "ax = sns.barplot(x=qt_room.index, y=qt_room.values)\n",
        "\n",
        "ax.set_title('Quantidade de imóveis disponíveis por categoria na região de Lisboa', loc='left', fontsize=18)\n",
        "ax.set_xlabel('Categoria')\n",
        "#ax.set_ylabel('Quantidade')\n",
        "ax.spines['right'].set_visible(False)\n",
        "ax.spines['top'].set_visible(False)\n",
        "ax.spines['left'].set_visible(False)\n",
        "ax.tick_params(labelleft = False)\n",
        "ax.grid(False)\n",
        "\n",
        "for i in range(qt_room.values.shape[0]-2):\n",
        "  ax.text(i-.1, qt_room.values[i]-600, f'{round(qt_room.values[i], 2)}', fontsize=12, color='white')\n",
        "for i in range(2, qt_room.values.shape[0]):\n",
        "  ax.text(i-.1, qt_room.values[i], f'{round(qt_room.values[i], 2)}', fontsize=12)\n",
        "\n",
        "plt.tight_layout()"
      ]
    },
    {
      "cell_type": "code",
      "execution_count": null,
      "metadata": {
        "colab": {
          "base_uri": "https://localhost:8080/",
          "height": 437
        },
        "id": "amwwju_TKmrl",
        "outputId": "01186820-6099-4f58-d19d-0ae1457aeff2"
      },
      "outputs": [],
      "source": [
        "# Análise do preço médio por tipo de locação\n",
        "preco_medio = df_clean.groupby('room_type').price.mean()\n",
        "\n",
        "fig, ax = plt.subplots(figsize=(12,6))\n",
        "\n",
        "ax = sns.barplot(x=preco_medio.index, y=preco_medio.values)\n",
        "ax.set_title('Preço médio por tipo de locação na região de Lisboa, em Euro (€)', loc='left', fontsize=18)\n",
        "ax.set_xlabel('Tipo de locação')\n",
        "ax.spines['right'].set_visible(False)\n",
        "ax.spines['top'].set_visible(False)\n",
        "ax.spines['left'].set_visible(False)\n",
        "ax.tick_params(labelleft = False)\n",
        "ax.grid(False)\n",
        "\n",
        "for i in range(preco_medio.values.shape[0]):\n",
        "  ax.text(i-.11, preco_medio.values[i]-10, f'€{round(preco_medio.values[i], 2)}', fontsize=12, color='white')\n",
        "\n",
        "plt.tight_layout()"
      ]
    },
    {
      "cell_type": "markdown",
      "metadata": {
        "id": "VrdyDo34K5iF"
      },
      "source": [
        "Opaaa... temos uma mudança.\n",
        "\n",
        "Agora o aluguel mais caro é para quartos de hoteis, seguido de casa/apartamento completo, quarto privado e quarto compartilhado. **Faz total sentido!**"
      ]
    },
    {
      "cell_type": "code",
      "execution_count": null,
      "metadata": {
        "colab": {
          "base_uri": "https://localhost:8080/",
          "height": 595
        },
        "id": "_Yrv5hj3IVlf",
        "outputId": "16d4ecf5-6b74-4c91-e558-3ae90aaa0c45"
      },
      "outputs": [],
      "source": [
        "# Análise ds preço médio por cidade\n",
        "preco_por_regiao = df_clean.groupby('neighbourhood_group').price.mean().sort_values(ascending=False)\n",
        "\n",
        "fi, ax = plt.subplots(figsize=(18,10))\n",
        "ax = sns.barplot(y=preco_por_regiao.index, x=preco_por_regiao.values, orient='h', palette='rocket')\n",
        "\n",
        "ax.set_title('Preço médio dos imóveis na região de Lisboa, em Euro (€)', loc='left', fontsize=18)\n",
        "ax.set_ylabel('')\n",
        "ax.spines['right'].set_visible(True)\n",
        "ax.spines['top'].set_visible(False)\n",
        "ax.spines['left'].set_visible(True)\n",
        "ax.spines['right'].set_visible(False)\n",
        "ax.spines['bottom'].set_visible(False)\n",
        "ax.tick_params(labelbottom = False)\n",
        "ax.grid(False)\n",
        "\n",
        "#plt.xticks(rotation=45)\n",
        "for i in range(preco_por_regiao.values.shape[0]):\n",
        "  ax.text(preco_por_regiao.values[i]-10, i, f'€{round(preco_por_regiao.values[i], 2)}', fontsize=12, color='white')\n",
        "\n",
        "plt.show()"
      ]
    },
    {
      "cell_type": "markdown",
      "metadata": {
        "id": "IcR4GrLdI-Es"
      },
      "source": [
        "Opaaa... mais uma mudança interessante.\n",
        "\n",
        "Agora os dados estão bem diferentes e parecem fazer sentido.\n",
        "\n",
        "**A cidade mais cara é Cascais seguida de Lisboa.**\n",
        "\n",
        "Bem... **Lisboa é a capital de Portugal e a maior cidade de país**. **Cascais é uma cidade turística costeira em Portugal, a oeste de Lisboa**. É conhecida por suas praias de areia e marina movimentada.\n",
        "\n",
        "Sintra não é uma cidade litorânea, há uma certa lógica em Cascais ser a cidade mais cara e não Sintra."
      ]
    },
    {
      "cell_type": "markdown",
      "metadata": {
        "id": "GkvAg623RjoR"
      },
      "source": [
        "## Conclusões\n"
      ]
    },
    {
      "cell_type": "markdown",
      "metadata": {
        "id": "rbZ3Hsy9Ypw8"
      },
      "source": [
        "A **análise dos dados do Airbnb** foi realiazada para as cidades da **região metropolitana de Lisboa** que é uma das sete regiões de Portugal, constituída por 118 freguesias (bairros), compreendida em 18 municípios.\n",
        "\n",
        "- O dataset da região metropolitana de Lisboa é bem extenso e possui alguns dados que indicam conter outliers;\n",
        "- É possível verificar que a maior parte dos imóveis possuem boa taxa de disponibilidade para o próximo ano;\n",
        "- O dataset possui vários outliers que altera o resultado correto dos dados;\n",
        "- As correlações entre as variáveis para determinar o preço de locação é bem fraca, no entanto o resultado encontrado após a remoção de outliers faz sentido;\n",
        "- O dados de preço do aluguel parecem conter outliers, pois a média original é €133.00, com 75% dos dados abaixo de €148.00 e valor máximo de €9999;\n",
        "- Os dados de quantidade mínima de noites para alugar um imóvel tem grande indícios de estarem com outliers, pois a média original é 4.2 noites com 75% dos dados abaixo de 3 noites. O valor máximo registrado é 1000 noites;\n",
        "- A região metropolitana de Lisboa é uma região onde a grande maioria de locaçÕes pelo Airbnb é de casa ou apartamentos completos e quartos privados;\n",
        "- Os alugueis mais baratos são os quartos compartilhados, porém há poucos na região.\n",
        "- Para ficar em um quarto privado, um turista não irá pagar muito caro e encontrará um local com certa facilidade, pois há muitos quartos disponíveis.\n"
      ]
    },
    {
      "cell_type": "code",
      "execution_count": null,
      "metadata": {
        "id": "OGiBsZfpQ7jn"
      },
      "outputs": [],
      "source": []
    }
  ],
  "metadata": {
    "colab": {
      "provenance": []
    },
    "kernelspec": {
      "display_name": "aulas_pos",
      "language": "python",
      "name": "python3"
    },
    "language_info": {
      "codemirror_mode": {
        "name": "ipython",
        "version": 3
      },
      "file_extension": ".py",
      "mimetype": "text/x-python",
      "name": "python",
      "nbconvert_exporter": "python",
      "pygments_lexer": "ipython3",
      "version": "3.11.8"
    }
  },
  "nbformat": 4,
  "nbformat_minor": 0
}
